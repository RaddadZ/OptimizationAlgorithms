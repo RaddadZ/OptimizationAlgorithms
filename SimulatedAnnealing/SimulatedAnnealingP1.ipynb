{
 "cells": [
  {
   "cell_type": "code",
   "execution_count": 1,
   "metadata": {},
   "outputs": [
    {
     "data": {
      "text/html": [
       "<script>requirejs.config({paths: { 'plotly': ['https://cdn.plot.ly/plotly-latest.min']},});if(!window.Plotly) {{require(['plotly'],function(plotly) {window.Plotly=plotly;});}}</script>"
      ],
      "text/vnd.plotly.v1+html": [
       "<script>requirejs.config({paths: { 'plotly': ['https://cdn.plot.ly/plotly-latest.min']},});if(!window.Plotly) {{require(['plotly'],function(plotly) {window.Plotly=plotly;});}}</script>"
      ]
     },
     "metadata": {},
     "output_type": "display_data"
    }
   ],
   "source": [
    "import plotly as py\n",
    "import plotly.graph_objs as go\n",
    "import random as rand\n",
    "import numpy as np\n",
    "import math\n",
    "import ipywidgets as widgets\n",
    "\n",
    "py.offline.init_notebook_mode(connected=True)"
   ]
  },
  {
   "cell_type": "code",
   "execution_count": 2,
   "metadata": {},
   "outputs": [],
   "source": [
    "# x = -0.0898\n",
    "# y = 0.7126\n",
    "# z = -1.0316\n",
    "def fitness(x,y):\n",
    "    a = (4-2.1*(x**2)+(x**4)/3)*(x**2)+x*y+(-4 + 4*(y**2))*(y**2)\n",
    "    return a"
   ]
  },
  {
   "cell_type": "code",
   "execution_count": 3,
   "metadata": {},
   "outputs": [],
   "source": [
    "data = []\n",
    "# diffrent seeds\n",
    "data.append([1000,500,2000000,0.001,0.95,[]])\n",
    "data.append([900,450,1500000,0.001,0.90,[]])\n",
    "data.append([800,400,1750000,0.001,0.98,[]])\n",
    "data.append([1000,450,1500000,0.001,0.85,[]])\n",
    "data.append([900,400,2000000,0.001,0.90,[]])"
   ]
  },
  {
   "cell_type": "code",
   "execution_count": 4,
   "metadata": {},
   "outputs": [],
   "source": [
    "for d in data:\n",
    "    # initilizing for every graph (seed)\n",
    "    x = rand.uniform(-3, 3)\n",
    "    y = rand.uniform(-2,2)\n",
    "    z = fitness(x,y)\n",
    "    m = d[0]\n",
    "    n = d[1]\n",
    "    t = d[2]\n",
    "    tf = d[3]\n",
    "    alpha = d[4]\n",
    "    for k in range(1,m+1):\n",
    "        current_x = rand.uniform(-3, 3)\n",
    "        current_y = rand.uniform(-2,2)\n",
    "        for i in range(1,n+1):\n",
    "            current_fitness = fitness(current_x, current_y)\n",
    "            gama = rand.random()\n",
    "            x_temp = current_x\n",
    "            y_temp = current_y\n",
    "            if gama >= 0 and gama <= 0.5:\n",
    "                x_temp = current_x + gama\n",
    "                y_temp = current_y + gama\n",
    "            elif gama > 0.5 and gama < 0.7:\n",
    "                x_temp = current_x - gama\n",
    "                y_temp = current_y - gama\n",
    "            fitness_temp = fitness(x_temp,y_temp)\n",
    "            if fitness_temp < current_fitness:\n",
    "                current_x = x_temp\n",
    "                current_y = y_temp\n",
    "            else:\n",
    "                num = rand.random()\n",
    "                energy = math.exp(-(fitness_temp - current_fitness)/t)\n",
    "                if num < energy:\n",
    "                    current_x = x_temp\n",
    "                    current_y = y_temp\n",
    "                if current_fitness < z:\n",
    "                    z = current_fitness\n",
    "        d[5].append(z)\n",
    "        t = alpha*t\n",
    "        if t < tf:\n",
    "           break\n"
   ]
  },
  {
   "cell_type": "code",
   "execution_count": 6,
   "metadata": {
    "scrolled": false
   },
   "outputs": [
    {
     "data": {
      "application/vnd.jupyter.widget-view+json": {
       "model_id": "44f67786a7894942bb59d376db669091",
       "version_major": 2,
       "version_minor": 0
      },
      "text/html": [
       "<p>Failed to display Jupyter Widget of type <code>interactive</code>.</p>\n",
       "<p>\n",
       "  If you're reading this message in the Jupyter Notebook or JupyterLab Notebook, it may mean\n",
       "  that the widgets JavaScript is still loading. If this message persists, it\n",
       "  likely means that the widgets JavaScript library is either not installed or\n",
       "  not enabled. See the <a href=\"https://ipywidgets.readthedocs.io/en/stable/user_install.html\">Jupyter\n",
       "  Widgets Documentation</a> for setup instructions.\n",
       "</p>\n",
       "<p>\n",
       "  If you're reading this message in another frontend (for example, a static\n",
       "  rendering on GitHub or <a href=\"https://nbviewer.jupyter.org/\">NBViewer</a>),\n",
       "  it may mean that your frontend doesn't currently support widgets.\n",
       "</p>\n"
      ],
      "text/plain": [
       "interactive(children=(SelectMultiple(description='Graph Index', index=(0,), options=(1, 2, 3, 4, 5), value=(1,)), Output()), _dom_classes=('widget-interact',))"
      ]
     },
     "metadata": {},
     "output_type": "display_data"
    }
   ],
   "source": [
    "results = [d[5] for d in data]\n",
    "x = np.linspace(0,1000,1000)\n",
    "layout = go.Layout(\n",
    "    title='Simulated Annealing',\n",
    "    yaxis=dict(\n",
    "        title='fitness'\n",
    "    ),\n",
    "    xaxis=dict(\n",
    "        title='iteration'\n",
    "    )\n",
    ")\n",
    "\n",
    "def update_plot(graphs):\n",
    "    data = []\n",
    "    for i in graphs:\n",
    "        trace1 = go.Scatter(\n",
    "            x=x,\n",
    "            y=results[i-1],\n",
    "            mode='lines',\n",
    "            name='graph {}'.format(i),\n",
    "            line=dict(\n",
    "                shape='spline'\n",
    "            )\n",
    "        )\n",
    "        data.append(trace1)\n",
    "    fig = go.Figure(data=data, layout=layout)\n",
    "    py.offline.iplot(fig)\n",
    "\n",
    "graphs = widgets.SelectMultiple(options=list(range(1,len(results)+1)), value=(1, ),description='Graph Index')\n",
    "widgets.interactive(update_plot,graphs=graphs)"
   ]
  },
  {
   "cell_type": "code",
   "execution_count": null,
   "metadata": {},
   "outputs": [],
   "source": []
  }
 ],
 "metadata": {
  "kernelspec": {
   "display_name": "Python 3",
   "language": "python",
   "name": "python3"
  },
  "language_info": {
   "codemirror_mode": {
    "name": "ipython",
    "version": 3
   },
   "file_extension": ".py",
   "mimetype": "text/x-python",
   "name": "python",
   "nbconvert_exporter": "python",
   "pygments_lexer": "ipython3",
   "version": "3.6.4"
  }
 },
 "nbformat": 4,
 "nbformat_minor": 2
}

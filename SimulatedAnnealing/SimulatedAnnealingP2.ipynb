{
 "cells": [
  {
   "cell_type": "code",
   "execution_count": 1,
   "metadata": {},
   "outputs": [
    {
     "data": {
      "text/html": [
       "<script>requirejs.config({paths: { 'plotly': ['https://cdn.plot.ly/plotly-latest.min']},});if(!window.Plotly) {{require(['plotly'],function(plotly) {window.Plotly=plotly;});}}</script>"
      ],
      "text/vnd.plotly.v1+html": [
       "<script>requirejs.config({paths: { 'plotly': ['https://cdn.plot.ly/plotly-latest.min']},});if(!window.Plotly) {{require(['plotly'],function(plotly) {window.Plotly=plotly;});}}</script>"
      ]
     },
     "metadata": {},
     "output_type": "display_data"
    }
   ],
   "source": [
    "import plotly as py\n",
    "import plotly.graph_objs as go\n",
    "import random\n",
    "import numpy as np\n",
    "import math\n",
    "import ipywidgets as widgets\n",
    "\n",
    "py.offline.init_notebook_mode(connected=True)"
   ]
  },
  {
   "cell_type": "code",
   "execution_count": 2,
   "metadata": {},
   "outputs": [],
   "source": [
    "# x = -0.0303\n",
    "# y = 1.5455\n",
    "# z = 8.0915\n",
    "def fitness(x,y):\n",
    "    a = 3*((1-x)**2)*math.exp(-(x**2)-(y+1)**2) \\\n",
    "        -10*((x/5)-(x**2)-(y**5))*math.exp(-(x**2)-(y**2)) \\\n",
    "        -math.exp(-((x+1)**2)-(y**2))/3\n",
    "    return a"
   ]
  },
  {
   "cell_type": "code",
   "execution_count": 3,
   "metadata": {},
   "outputs": [
    {
     "name": "stdout",
     "output_type": "stream",
     "text": [
      "[[1000, 500, 2000000, 0.001, 0.95, []], [900, 450, 1500000, 0.001, 0.9, []], [800, 400, 1750000, 0.001, 0.98, []], [1000, 450, 1500000, 0.001, 0.85, []], [900, 400, 2000000, 0.001, 0.9, []]]\n"
     ]
    }
   ],
   "source": [
    "data = []\n",
    "data.append([1000,500,2000000,0.001,0.95,[]])\n",
    "data.append([900,450,1500000,0.001,0.90,[]])\n",
    "data.append([800,400,1750000,0.001,0.98,[]])\n",
    "data.append([1000,450,1500000,0.001,0.85,[]])\n",
    "data.append([900,400,2000000,0.001,0.90,[]])\n",
    "print(data)"
   ]
  },
  {
   "cell_type": "code",
   "execution_count": 4,
   "metadata": {},
   "outputs": [],
   "source": [
    "for d in data:\n",
    "    x = random.uniform(-3, 3)\n",
    "    y = random.uniform(-3,3)\n",
    "    z = fitness(x,y)\n",
    "    m = d[0]\n",
    "    n = d[1]\n",
    "    t = d[2]\n",
    "    tf = d[3]\n",
    "    alpha = d[4]\n",
    "    for k in range(1,m+1):\n",
    "        current_x = random.uniform(-3, 3)\n",
    "        current_y = random.uniform(-3,3)\n",
    "        for i in range(1,n+1):\n",
    "            current_fitness = fitness(current_x, current_y)\n",
    "            gama = random.random()\n",
    "            x_temp = current_x\n",
    "            y_temp = current_y\n",
    "            if gama >= 0 and gama <= 0.5:\n",
    "                x_temp = current_x + gama\n",
    "                y_temp = current_y + gama\n",
    "            elif gama > 0.5 and gama < 0.7:\n",
    "                x_temp = current_x - gama\n",
    "                y_temp = current_y - gama\n",
    "            fitness_temp = fitness(x_temp,y_temp)\n",
    "            if fitness_temp > current_fitness:\n",
    "                current_x = x_temp\n",
    "                current_y = y_temp\n",
    "            else:\n",
    "                num = random.random()\n",
    "                energy = math.exp(-(current_fitness - fitness_temp)/t)\n",
    "                if num > energy:\n",
    "                    current_x = x_temp\n",
    "                    current_y = y_temp\n",
    "                if current_fitness > z:\n",
    "                    z = current_fitness\n",
    "        d[5].append(z)\n",
    "        t = alpha*t\n",
    "        if t < tf:\n",
    "           break\n",
    "#print(data)\n",
    "results = [d[5] for d in data]"
   ]
  },
  {
   "cell_type": "code",
   "execution_count": 5,
   "metadata": {},
   "outputs": [
    {
     "data": {
      "application/vnd.jupyter.widget-view+json": {
       "model_id": "4dbc66ab1cb64c4db8f6d80ab0fd5138",
       "version_major": 2,
       "version_minor": 0
      },
      "text/html": [
       "<p>Failed to display Jupyter Widget of type <code>interactive</code>.</p>\n",
       "<p>\n",
       "  If you're reading this message in the Jupyter Notebook or JupyterLab Notebook, it may mean\n",
       "  that the widgets JavaScript is still loading. If this message persists, it\n",
       "  likely means that the widgets JavaScript library is either not installed or\n",
       "  not enabled. See the <a href=\"https://ipywidgets.readthedocs.io/en/stable/user_install.html\">Jupyter\n",
       "  Widgets Documentation</a> for setup instructions.\n",
       "</p>\n",
       "<p>\n",
       "  If you're reading this message in another frontend (for example, a static\n",
       "  rendering on GitHub or <a href=\"https://nbviewer.jupyter.org/\">NBViewer</a>),\n",
       "  it may mean that your frontend doesn't currently support widgets.\n",
       "</p>\n"
      ],
      "text/plain": [
       "interactive(children=(SelectMultiple(description='Graph Index', index=(0,), options=(1, 2, 3, 4, 5), value=(1,)), Output()), _dom_classes=('widget-interact',))"
      ]
     },
     "metadata": {},
     "output_type": "display_data"
    }
   ],
   "source": [
    "x = np.linspace(0,1000,1000)\n",
    "layout = go.Layout(\n",
    "    title='Simulated Annealing',\n",
    "    yaxis=dict(\n",
    "        title='fitness'\n",
    "    ),\n",
    "    xaxis=dict(\n",
    "        title='iteration'\n",
    "    )\n",
    ")\n",
    "\n",
    "def update_plot(graphs):\n",
    "    data = []\n",
    "    for i in graphs:\n",
    "        trace1 = go.Scatter(\n",
    "            x=x,\n",
    "            y=results[i-1],\n",
    "            mode='lines',\n",
    "            name='graph {}'.format(i),\n",
    "            line=dict(\n",
    "                shape='spline'\n",
    "            )\n",
    "        )\n",
    "        data.append(trace1)\n",
    "    fig = go.Figure(data=data, layout=layout)\n",
    "    py.offline.iplot(fig)\n",
    "\n",
    "graphs = widgets.SelectMultiple(options=list(range(1,len(results)+1)), value=(1, ),description='Graph Index')\n",
    "widgets.interactive(update_plot,graphs=graphs)\n"
   ]
  },
  {
   "cell_type": "code",
   "execution_count": null,
   "metadata": {},
   "outputs": [],
   "source": []
  }
 ],
 "metadata": {
  "kernelspec": {
   "display_name": "Python 3",
   "language": "python",
   "name": "python3"
  },
  "language_info": {
   "codemirror_mode": {
    "name": "ipython",
    "version": 3
   },
   "file_extension": ".py",
   "mimetype": "text/x-python",
   "name": "python",
   "nbconvert_exporter": "python",
   "pygments_lexer": "ipython3",
   "version": "3.6.4"
  }
 },
 "nbformat": 4,
 "nbformat_minor": 2
}

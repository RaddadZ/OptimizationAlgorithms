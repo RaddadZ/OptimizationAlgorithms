{
 "cells": [
  {
   "cell_type": "code",
   "execution_count": 1,
   "metadata": {},
   "outputs": [
    {
     "data": {
      "text/html": [
       "<script>requirejs.config({paths: { 'plotly': ['https://cdn.plot.ly/plotly-latest.min']},});if(!window.Plotly) {{require(['plotly'],function(plotly) {window.Plotly=plotly;});}}</script>"
      ],
      "text/vnd.plotly.v1+html": [
       "<script>requirejs.config({paths: { 'plotly': ['https://cdn.plot.ly/plotly-latest.min']},});if(!window.Plotly) {{require(['plotly'],function(plotly) {window.Plotly=plotly;});}}</script>"
      ]
     },
     "metadata": {},
     "output_type": "display_data"
    }
   ],
   "source": [
    "import plotly as py\n",
    "import plotly.graph_objs as go\n",
    "import random as rand\n",
    "import numpy as np\n",
    "import math\n",
    "import ipywidgets as widgets\n",
    "\n",
    "py.offline.init_notebook_mode(connected=True)"
   ]
  },
  {
   "cell_type": "code",
   "execution_count": 2,
   "metadata": {},
   "outputs": [],
   "source": [
    "minxrange, maxxrange, minyrange, maxyrange = 0,0,0,0\n",
    "\n",
    "def fitnessP1(x,y):\n",
    "    global minxrange, maxxrange, minyrange, maxyrange\n",
    "    minxrange, maxxrange, minyrange, maxyrange = -2,2,-3,3\n",
    "    a = (4-2.1*(x**2)+(x**4)/3)*(x**2)+x*y+(-4 + 4*(y**2))*(y**2)\n",
    "    return a\n",
    "\n",
    "def fitnessP2(x,y):\n",
    "    global minxrange, maxxrange, minyrange, maxyrange\n",
    "    minxrange, maxxrange, minyrange, maxyrange = -5,10,0,15\n",
    "    a = (y-(5.1/(4*(math.pi)**2))*(x**2)+(5/math.pi)*x)**2+10*(1-1/(8*math.pi))*math.cos(x)+10\n",
    "    return a\n",
    "\n",
    "def fitnessP3(x,y):\n",
    "    global minxrange, maxxrange, minyrange, maxyrange\n",
    "    minxrange, maxxrange, minyrange, maxyrange = -100,100,-100,100\n",
    "    a = 1+1/200*(x**2+y**2)-(math.cos(x/math.sqrt(1))*math.cos(y/math.sqrt(2)))\n",
    "    return a\n",
    "\n",
    "switcher = {\n",
    "    0: fitnessP1,\n",
    "    1: fitnessP2,\n",
    "    2: fitnessP3\n",
    "}\n",
    "\n",
    "def fitness(funcIndex,x,y):\n",
    "    func = switcher.get(funcIndex, lambda x,y: \"Invalid index\") # Get the function from switcher dictionary\n",
    "    return func(x,y) # Execute the function"
   ]
  },
  {
   "cell_type": "code",
   "execution_count": 3,
   "metadata": {},
   "outputs": [],
   "source": [
    "iterations = 1000\n",
    "data = [[]]*5\n",
    "data[0] = [10,30,1.1,[]] # parent, child, gama, len(parent)+1 size array of various parents results, array of arrays\n",
    "data[1] = [10,30,2.5,[]]\n",
    "data[2] = [10,20,1.1,[]]\n",
    "data[3] = [5,30,2.5,[]]\n",
    "data[4] = [15,30,2.5,[]]"
   ]
  },
  {
   "cell_type": "code",
   "execution_count": 4,
   "metadata": {
    "scrolled": false
   },
   "outputs": [],
   "source": [
    "results = [] # diffrent problems' diffret seed results\n",
    "for r in range(len(switcher)):\n",
    "    problemResult = [] # same problem diffrent seeds results\n",
    "    for d in data: # iterate on seeds\n",
    "        m = d[0] # parents\n",
    "        l = d[1] # childs\n",
    "        d[3] = [[] for _ in range(m+1)] # len(parent)+1 size array of various parents fitnesses, array of arrays\n",
    "        parent_x = [0.0]*m\n",
    "        parent_y = [0.0]*m\n",
    "        child_x = [0.0]*l\n",
    "        child_y = [0.0]*l\n",
    "        z_fitness = [0.0]*m # parents fitness values\n",
    "        t_fitness = [0.0]*l # children fitness values\n",
    "        gama = d[2] # can be variable or constant - move function\n",
    "\n",
    "        # family members production and reproduction\n",
    "        for i in range(m):\n",
    "            parent_x[i] = rand.uniform(minxrange,maxxrange)\n",
    "            parent_y[i] = rand.uniform(minyrange,maxyrange)\n",
    "            z_fitness[i] = fitness(r,parent_x[i],parent_y[i])\n",
    "\n",
    "        p = 0 # index, or you can start from 1\n",
    "        while p < iterations:\n",
    "            k = 0\n",
    "            s = 0.0\n",
    "            for i in range(m):\n",
    "                for j in range(int(l/m)):\n",
    "                    moving_x = rand.gauss(0,1)*gama # normal random - !needs to be revised!\n",
    "                    moving_y = rand.gauss(0,1)*gama # normal random - !needs to be revised! \n",
    "                    child_x[k] = parent_x[i] + moving_x\n",
    "                    child_y[k] = parent_y[i] + moving_y\n",
    "                    t_fitness[k] = fitness(r,child_x[k],child_y[k])\n",
    "                    if t_fitness[k] < z_fitness[i]:\n",
    "                        s+=1.0\n",
    "                    k+=1\n",
    "            # mutation\n",
    "            if s / l > 0.2:\n",
    "                gama = gama*(1/0.85)\n",
    "            else:\n",
    "                gama = gama * 0.85\n",
    "            # m and l selection\n",
    "            for i in range(m):\n",
    "                for j in range(l):\n",
    "                    if t_fitness[j] < z_fitness[i]:\n",
    "                        parent_x[i] = child_x[j]                \n",
    "                        parent_y[i] = child_y[j]\n",
    "                        z_fitness[i] = t_fitness[j]\n",
    "                        t_fitness[j] = 999999999999999 # eleminate using a very big number\n",
    "                d[3][i].append(z_fitness[i])\n",
    "            p+=1\n",
    "            d[3][m].append(min(z_fitness))\n",
    "        problemResult.append(d[3][m])\n",
    "    results.append(problemResult)"
   ]
  },
  {
   "cell_type": "code",
   "execution_count": 5,
   "metadata": {
    "scrolled": false
   },
   "outputs": [
    {
     "data": {
      "application/vnd.jupyter.widget-view+json": {
       "model_id": "ecee341a2d0e44d0ad4c0b30f7a462e4",
       "version_major": 2,
       "version_minor": 0
      },
      "text/html": [
       "<p>Failed to display Jupyter Widget of type <code>interactive</code>.</p>\n",
       "<p>\n",
       "  If you're reading this message in the Jupyter Notebook or JupyterLab Notebook, it may mean\n",
       "  that the widgets JavaScript is still loading. If this message persists, it\n",
       "  likely means that the widgets JavaScript library is either not installed or\n",
       "  not enabled. See the <a href=\"https://ipywidgets.readthedocs.io/en/stable/user_install.html\">Jupyter\n",
       "  Widgets Documentation</a> for setup instructions.\n",
       "</p>\n",
       "<p>\n",
       "  If you're reading this message in another frontend (for example, a static\n",
       "  rendering on GitHub or <a href=\"https://nbviewer.jupyter.org/\">NBViewer</a>),\n",
       "  it may mean that your frontend doesn't currently support widgets.\n",
       "</p>\n"
      ],
      "text/plain": [
       "interactive(children=(SelectMultiple(description='Problem Index', index=(0,), options=(1, 2, 3), value=(1,)), SelectMultiple(description='Seed Index', index=(0,), options=(1, 2, 3, 4, 5), value=(1,)), Output()), _dom_classes=('widget-interact',))"
      ]
     },
     "metadata": {},
     "output_type": "display_data"
    }
   ],
   "source": [
    "x = np.linspace(0,iterations,iterations)\n",
    "layout = go.Layout(\n",
    "    title='Evaluation Strategies Algorithm Module',\n",
    "    yaxis=dict(\n",
    "        title='fitness'\n",
    "    ),\n",
    "    xaxis=dict(\n",
    "        title='iteration'\n",
    "    )\n",
    ")\n",
    "\n",
    "def update_plot(graphs,graphChildren):\n",
    "    data = []\n",
    "    for i in graphs:\n",
    "        for j in graphChildren:\n",
    "            trace1 = go.Scatter(\n",
    "                x=x,\n",
    "                y=results[i-1][j-1],\n",
    "                mode='lines',\n",
    "                name='prob{} seed{}'.format(i,j),\n",
    "                line=dict(\n",
    "                    shape='spline'\n",
    "                )\n",
    "            )\n",
    "            data.append(trace1)\n",
    "    fig = go.Figure(data=data, layout=layout)\n",
    "    py.offline.iplot(fig)\n",
    "\n",
    "graphs = widgets.SelectMultiple(options=list(range(1,len(results)+1)), value=(1, ),description='Problem Index')\n",
    "graphChildren = widgets.SelectMultiple(options=list(range(1,len(results[0])+1)), value=(1, ),description='Seed Index')\n",
    "\n",
    "widgets.interactive(update_plot,graphs=graphs, graphChildren=graphChildren)\n",
    "#widgets.interactive(update_plot,graphs=graphs)\n"
   ]
  },
  {
   "cell_type": "code",
   "execution_count": null,
   "metadata": {},
   "outputs": [],
   "source": []
  }
 ],
 "metadata": {
  "kernelspec": {
   "display_name": "Python 3",
   "language": "python",
   "name": "python3"
  },
  "language_info": {
   "codemirror_mode": {
    "name": "ipython",
    "version": 3
   },
   "file_extension": ".py",
   "mimetype": "text/x-python",
   "name": "python",
   "nbconvert_exporter": "python",
   "pygments_lexer": "ipython3",
   "version": "3.6.4"
  }
 },
 "nbformat": 4,
 "nbformat_minor": 2
}

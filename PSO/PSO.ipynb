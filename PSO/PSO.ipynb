{
 "cells": [
  {
   "cell_type": "code",
   "execution_count": 2,
   "metadata": {},
   "outputs": [
    {
     "data": {
      "text/html": [
       "<script>requirejs.config({paths: { 'plotly': ['https://cdn.plot.ly/plotly-latest.min']},});if(!window.Plotly) {{require(['plotly'],function(plotly) {window.Plotly=plotly;});}}</script>"
      ],
      "text/vnd.plotly.v1+html": [
       "<script>requirejs.config({paths: { 'plotly': ['https://cdn.plot.ly/plotly-latest.min']},});if(!window.Plotly) {{require(['plotly'],function(plotly) {window.Plotly=plotly;});}}</script>"
      ]
     },
     "metadata": {},
     "output_type": "display_data"
    }
   ],
   "source": [
    "import plotly as py\n",
    "import plotly.graph_objs as go\n",
    "import random as rand\n",
    "import numpy as np\n",
    "import math\n",
    "import ipywidgets as widgets\n",
    "\n",
    "py.offline.init_notebook_mode(connected=True)"
   ]
  },
  {
   "cell_type": "code",
   "execution_count": 3,
   "metadata": {},
   "outputs": [],
   "source": [
    "# problem 1\n",
    "# x = -0.0898\n",
    "# y = 0.7126\n",
    "# z = -1.0316\n",
    "\n",
    "# problem 2\n",
    "# x = 0\n",
    "# y = 0\n",
    "# z = 0\n",
    "def fitness(x,y):\n",
    "    # problem 2\n",
    "    a = (abs(x)+abs(y))*math.exp(-(math.sin(x**2+math.sin(y**2))))\n",
    "    \n",
    "    # problem 1\n",
    "    #a = (4-2.1*(x**2)+(x**4)/3)*(x**2)+x*y+(-4 + 4*(y**2))*(y**2)\n",
    "    return a\n"
   ]
  },
  {
   "cell_type": "code",
   "execution_count": 4,
   "metadata": {},
   "outputs": [],
   "source": [
    "data = []\n",
    "#diffrent seeds\n",
    "#data.append([w,phi1,phi2,k,fitness[]])\n",
    "data.append([1.0,2.0,2.0,1.0,[]]) # full model\n",
    "data.append([1.0,2.0,0,1.0,[]]) # cogintion only\n",
    "data.append([1.0,0,2.0,1.0,[]]) # social only\n",
    "data.append([0.8,2.0,2.0,1.0,[]]) # diffret w\n",
    "data.append([1.0,0.5,1.5,1.0,[]]) # full model with diff values of PHI"
   ]
  },
  {
   "cell_type": "code",
   "execution_count": 5,
   "metadata": {},
   "outputs": [],
   "source": [
    "for d in data:\n",
    "    swarm_size = 20\n",
    "    # initilizing for every graph (seed)\n",
    "    current_x = [0.0]*swarm_size\n",
    "    current_y = [0.0]*swarm_size\n",
    "    current_fitness = [0.0]*swarm_size\n",
    "    vx = [0.0]*swarm_size\n",
    "    vy = [0.0]*swarm_size\n",
    "    pbest_x = [0.0]*swarm_size\n",
    "    pbest_y = [0.0]*swarm_size\n",
    "    pbest_fitness = [0.0]*swarm_size\n",
    "    w = d[0]\n",
    "    phi1 = d[1]\n",
    "    phi2 = d[2]\n",
    "    k = d[3]\n",
    "    \n",
    "    # problem 1 ranges\n",
    "    #xrange = 3\n",
    "    #yrange = 2\n",
    "    \n",
    "    # problem 2 ranges\n",
    "    xrange = np.pi*2\n",
    "    yrange = np.pi*2\n",
    "    \n",
    "    # first values of particles\n",
    "    for i in range(swarm_size):\n",
    "        current_x[i] = rand.uniform(-xrange, xrange)\n",
    "        current_y[i] = rand.uniform(-yrange, yrange)\n",
    "        vx[i] = rand.uniform(-xrange, xrange)\n",
    "        vy[i] = rand.uniform(-yrange, yrange)\n",
    "        current_fitness[i] = fitness(current_x[i],current_y[i])\n",
    "        pbest_x[i] = current_x[i]\n",
    "        pbest_y[i] = current_y[i]\n",
    "        pbest_fitness[i] = current_fitness[i]\n",
    "        \n",
    "    # start iterations\n",
    "    index = 0 \n",
    "    for z in range(1000):\n",
    "        # finding the index of particle with best fitness\n",
    "        for p in range(1,swarm_size):\n",
    "            if pbest_fitness[p] < pbest_fitness[index]:\n",
    "                index = p\n",
    "        # calculating velocities and new x,y for every particle\n",
    "        for t in range(swarm_size):\n",
    "            #controlling the growth of velocity using w\n",
    "            vx[t]= w*vx[t]+phi1*rand.random()*(pbest_x[t]-current_x[t])+phi2*rand.random()*(pbest_x[index]-current_x[t])\n",
    "            vy[t]= w*vy[t]+phi1*rand.random()*(pbest_y[t]-current_y[t])+phi2*rand.random()*(pbest_y[index]-current_y[t])\n",
    "            current_x[t] = current_x[t]+vx[t]\n",
    "            current_y[t] = current_y[t]+vy[t]\n",
    "            current_fitness[t] = fitness(current_x[t],current_y[t])\n",
    "            if current_fitness[t] < pbest_fitness[t]:\n",
    "                pbest_fitness[t] = current_fitness[t]\n",
    "                pbest_x[t] = current_x[t]\n",
    "                pbest_y[t] = current_y[t]\n",
    "        w = w - w*z/1000        \n",
    "        # adding to fitness value list\n",
    "        d[4].append(pbest_fitness[t])\n"
   ]
  },
  {
   "cell_type": "code",
   "execution_count": 6,
   "metadata": {
    "scrolled": false
   },
   "outputs": [
    {
     "data": {
      "application/vnd.jupyter.widget-view+json": {
       "model_id": "99a5bc4b0cb941a4911da5ceb5f2d00e",
       "version_major": 2,
       "version_minor": 0
      },
      "text/html": [
       "<p>Failed to display Jupyter Widget of type <code>interactive</code>.</p>\n",
       "<p>\n",
       "  If you're reading this message in the Jupyter Notebook or JupyterLab Notebook, it may mean\n",
       "  that the widgets JavaScript is still loading. If this message persists, it\n",
       "  likely means that the widgets JavaScript library is either not installed or\n",
       "  not enabled. See the <a href=\"https://ipywidgets.readthedocs.io/en/stable/user_install.html\">Jupyter\n",
       "  Widgets Documentation</a> for setup instructions.\n",
       "</p>\n",
       "<p>\n",
       "  If you're reading this message in another frontend (for example, a static\n",
       "  rendering on GitHub or <a href=\"https://nbviewer.jupyter.org/\">NBViewer</a>),\n",
       "  it may mean that your frontend doesn't currently support widgets.\n",
       "</p>\n"
      ],
      "text/plain": [
       "interactive(children=(SelectMultiple(description='Graph Index', index=(0,), options=(1, 2, 3, 4, 5), value=(1,)), Output()), _dom_classes=('widget-interact',))"
      ]
     },
     "metadata": {},
     "output_type": "display_data"
    }
   ],
   "source": [
    "# taking just the results for every graph\n",
    "results = [d[4] for d in data]\n",
    "\n",
    "x = np.linspace(0,1000,1000)\n",
    "layout = go.Layout(\n",
    "    title='Simulated Annealing',\n",
    "    yaxis=dict(\n",
    "        title='fitness'\n",
    "    ),\n",
    "    xaxis=dict(\n",
    "        title='iteration'\n",
    "    )\n",
    ")\n",
    "\n",
    "def update_plot(graphs):\n",
    "    data = []\n",
    "    for i in graphs:\n",
    "        trace1 = go.Scatter(\n",
    "            x=x,\n",
    "            y=results[i-1],\n",
    "            mode='lines',\n",
    "            name='graph {}'.format(i),\n",
    "            line=dict(\n",
    "                shape='spline'\n",
    "            )\n",
    "        )\n",
    "        data.append(trace1)\n",
    "    fig = go.Figure(data=data, layout=layout)\n",
    "    py.offline.iplot(fig)\n",
    "\n",
    "graphs = widgets.SelectMultiple(options=list(range(1,len(results)+1)), value=(1, ),description='Graph Index')\n",
    "widgets.interactive(update_plot,graphs=graphs)"
   ]
  },
  {
   "cell_type": "code",
   "execution_count": null,
   "metadata": {},
   "outputs": [],
   "source": []
  }
 ],
 "metadata": {
  "kernelspec": {
   "display_name": "Python 3",
   "language": "python",
   "name": "python3"
  },
  "language_info": {
   "codemirror_mode": {
    "name": "ipython",
    "version": 3
   },
   "file_extension": ".py",
   "mimetype": "text/x-python",
   "name": "python",
   "nbconvert_exporter": "python",
   "pygments_lexer": "ipython3",
   "version": "3.6.4"
  }
 },
 "nbformat": 4,
 "nbformat_minor": 2
}
